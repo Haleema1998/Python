{
  "cells": [
    {
      "cell_type": "markdown",
      "metadata": {},
      "source": [
        "# Python DA Assignment 3 \u2013 Web Scraping and PySpark\n",
        "This notebook contains the full solution for extracting book data from the [Books to Scrape](https://books.toscrape.com) website using web scraping, and analyzing it using PySpark."
      ]
    },
    {
      "cell_type": "code",
      "metadata": {},
      "source": [
        "!pip install requests beautifulsoup4 pandas pyspark"
      ],
      "execution_count": null,
      "outputs": []
    },
    {
      "cell_type": "code",
      "metadata": {},
      "source": [
        "import requests\n",
        "from bs4 import BeautifulSoup\n",
        "import pandas as pd\n",
        "import re"
      ],
      "execution_count": null,
      "outputs": []
    },
    {
      "cell_type": "code",
      "metadata": {},
      "source": [
        "base_url = \"https://books.toscrape.com/catalogue/\"\n",
        "start_url = \"https://books.toscrape.com/catalogue/page-1.html\"\n",
        "books = []\n",
        "\n",
        "def get_rating(tag):\n",
        "    classes = tag.get('class', [])\n",
        "    ratings = ['One', 'Two', 'Three', 'Four', 'Five']\n",
        "    for rate in ratings:\n",
        "        if rate in classes:\n",
        "            return ratings.index(rate) + 1\n",
        "    return None"
      ],
      "execution_count": null,
      "outputs": []
    },
    {
      "cell_type": "code",
      "metadata": {},
      "source": [
        "while start_url:\n",
        "    response = requests.get(start_url)\n",
        "    response.encoding = 'utf-8'\n",
        "    soup = BeautifulSoup(response.text, 'html.parser')\n",
        "    articles = soup.find_all('article', class_='product_pod')\n",
        "\n",
        "    for article in articles:\n",
        "        title = article.h3.a['title']\n",
        "        price_str = article.find('p', class_='price_color').text.strip()\n",
        "        price = float(re.sub(r'[^\\d.]', '', price_str))\n",
        "        rating = get_rating(article.find('p', class_='star-rating'))\n",
        "        availability = article.find('p', class_='instock availability').text.strip()\n",
        "\n",
        "        detail_url = base_url + article.h3.a['href']\n",
        "        detail_resp = requests.get(detail_url)\n",
        "        detail_resp.encoding = 'utf-8'\n",
        "        detail_soup = BeautifulSoup(detail_resp.text, 'html.parser')\n",
        "        genre = detail_soup.select('ul.breadcrumb li')[2].text.strip()\n",
        "\n",
        "        books.append({\n",
        "            'Title': title,\n",
        "            'Price': price,\n",
        "            'Rating': rating,\n",
        "            'Availability': availability,\n",
        "            'Genre': genre\n",
        "        })\n",
        "\n",
        "    next_btn = soup.find('li', class_='next')\n",
        "    if next_btn:\n",
        "        next_href = next_btn.a['href']\n",
        "        start_url = base_url + next_href\n",
        "    else:\n",
        "        break\n",
        "\n",
        "print(\"Books scraped:\", len(books))\n",
        "print(\"First 3 books:\", books[:3])"
      ],
      "execution_count": null,
      "outputs": []
    },
    {
      "cell_type": "code",
      "metadata": {},
      "source": [
        "df = pd.DataFrame(books)\n",
        "df.to_csv('books_data.csv', index=False)\n",
        "df.head()"
      ],
      "execution_count": null,
      "outputs": []
    },
    {
      "cell_type": "code",
      "metadata": {},
      "source": [
        "from pyspark.sql import SparkSession\n",
        "\n",
        "spark = SparkSession.builder.appName(\"Books Analysis\").getOrCreate()"
      ],
      "execution_count": null,
      "outputs": []
    },
    {
      "cell_type": "code",
      "metadata": {},
      "source": [
        "df_spark = spark.read.csv('books_data.csv', header=True, inferSchema=True)\n",
        "df_spark.show(5)"
      ],
      "execution_count": null,
      "outputs": []
    },
    {
      "cell_type": "code",
      "metadata": {},
      "source": [
        "df_spark.printSchema()"
      ],
      "execution_count": null,
      "outputs": []
    },
    {
      "cell_type": "code",
      "metadata": {},
      "source": [
        "df_spark.describe().show()"
      ],
      "execution_count": null,
      "outputs": []
    },
    {
      "cell_type": "code",
      "metadata": {},
      "source": [
        "df_spark.filter(df_spark.Price > 20).show(5)"
      ],
      "execution_count": null,
      "outputs": []
    },
    {
      "cell_type": "code",
      "metadata": {},
      "source": [
        "df_spark.filter(df_spark.Rating >= 4).show(5)"
      ],
      "execution_count": null,
      "outputs": []
    }
  ],
  "metadata": {
    "kernelspec": {
      "display_name": "Python 3",
      "language": "python",
      "name": "python3"
    },
    "language_info": {
      "name": "python",
      "version": "3.10"
    }
  },
  "nbformat": 4,
  "nbformat_minor": 5
}