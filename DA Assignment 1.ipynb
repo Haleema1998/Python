{
 "cells": [
  {
   "cell_type": "code",
   "execution_count": 8,
   "id": "e8b420e1-53ce-47a6-84a9-117b570e46af",
   "metadata": {},
   "outputs": [
    {
     "name": "stdout",
     "output_type": "stream",
     "text": [
      "Week 1 Temperatures (°C): [22.5 25.3 20.8 23.4 26.1 24.8 21.9]\n"
     ]
    }
   ],
   "source": [
    "import numpy as np\n",
    "\n",
    "temperatures_w1 = np.array([22.5, 25.3, 20.8, 23.4, 26.1, 24.8, 21.9])\n",
    "print(\"Week 1 Temperatures (°C):\", temperatures_w1)"
   ]
  },
  {
   "cell_type": "code",
   "execution_count": 9,
   "id": "5c7f6059-6792-4059-a5d7-d61d268992c0",
   "metadata": {},
   "outputs": [
    {
     "name": "stdout",
     "output_type": "stream",
     "text": [
      "Shape: (7,)\n",
      "Data type: float64\n",
      "Number of elements: 7\n"
     ]
    }
   ],
   "source": [
    "print(\"Shape:\", temperatures_w1.shape)\n",
    "print(\"Data type:\", temperatures_w1.dtype)\n",
    "print(\"Number of elements:\", temperatures_w1.size)"
   ]
  },
  {
   "cell_type": "code",
   "execution_count": 10,
   "id": "3b4aacef-bbb2-4bba-9031-1a7ae88c9905",
   "metadata": {},
   "outputs": [
    {
     "name": "stdout",
     "output_type": "stream",
     "text": [
      "Temperatures in Fahrenheit: [72.5  77.54 69.44 74.12 78.98 76.64 71.42]\n"
     ]
    }
   ],
   "source": [
    "temperatures_fahrenheit = (temperatures_w1 * 9/5) + 32\n",
    "print(\"Temperatures in Fahrenheit:\", temperatures_fahrenheit)"
   ]
  },
  {
   "cell_type": "code",
   "execution_count": 11,
   "id": "d3fbac08-ba62-43f4-9191-e4b2b79ab625",
   "metadata": {},
   "outputs": [
    {
     "name": "stdout",
     "output_type": "stream",
     "text": [
      "Maximum Temperature: 26.1\n",
      "Minimum Temperature: 20.8\n",
      "Mean Temperature: 23.542857142857144\n"
     ]
    }
   ],
   "source": [
    "print(\"Maximum Temperature:\", np.max(temperatures_w1))\n",
    "print(\"Minimum Temperature:\", np.min(temperatures_w1))\n",
    "print(\"Mean Temperature:\", np.mean(temperatures_w1))"
   ]
  },
  {
   "cell_type": "code",
   "execution_count": 12,
   "id": "f167af0d-c06c-438e-a951-6850cadbfdb2",
   "metadata": {},
   "outputs": [
    {
     "name": "stdout",
     "output_type": "stream",
     "text": [
      "First 3 Days Temperatures: [22.5 25.3 20.8]\n"
     ]
    }
   ],
   "source": [
    "print(\"First 3 Days Temperatures:\", temperatures_w1[:3])"
   ]
  },
  {
   "cell_type": "code",
   "execution_count": 13,
   "id": "b033e9cc-f642-435c-82d7-f0df93ca1c0a",
   "metadata": {},
   "outputs": [
    {
     "name": "stdout",
     "output_type": "stream",
     "text": [
      "Weekend Temperatures: [24.8 21.9]\n",
      "Middle 3 Days Temperatures: [20.8 23.4 26.1]\n"
     ]
    }
   ],
   "source": [
    "print(\"Weekend Temperatures:\", temperatures_w1[-2:])\n",
    "print(\"Middle 3 Days Temperatures:\", temperatures_w1[2:5])"
   ]
  },
  {
   "cell_type": "code",
   "execution_count": 14,
   "id": "98879a12-ab1e-44f2-b0ef-af0000a8efcd",
   "metadata": {},
   "outputs": [
    {
     "name": "stdout",
     "output_type": "stream",
     "text": [
      "2D Array of Temperatures:\n",
      " [[22.5 25.3 20.8 23.4 26.1 24.8 21.9]\n",
      " [19.2 22.5 21.3 24.  23.5 22.8 20.1]]\n"
     ]
    }
   ],
   "source": [
    "temperatures_w2 = np.array([19.2, 22.5, 21.3, 24.0, 23.5, 22.8, 20.1])\n",
    "temperatures = np.array([temperatures_w1, temperatures_w2])\n",
    "print(\"2D Array of Temperatures:\\n\", temperatures)"
   ]
  },
  {
   "cell_type": "code",
   "execution_count": 15,
   "id": "9b31311a-5609-4526-9887-d4a0a0f8f0b8",
   "metadata": {},
   "outputs": [
    {
     "name": "stdout",
     "output_type": "stream",
     "text": [
      "Shape: (2, 7)\n",
      "Data type: float64\n",
      "Number of elements: 14\n"
     ]
    }
   ],
   "source": [
    "print(\"Shape:\", temperatures.shape)\n",
    "print(\"Data type:\", temperatures.dtype)\n",
    "print(\"Number of elements:\", temperatures.size)"
   ]
  },
  {
   "cell_type": "code",
   "execution_count": 16,
   "id": "712f009c-a8cf-4dd6-9e7e-b3341ef24068",
   "metadata": {},
   "outputs": [
    {
     "name": "stdout",
     "output_type": "stream",
     "text": [
      "Week 1 Temperatures: [22.5 25.3 20.8 23.4 26.1 24.8 21.9]\n",
      "Week 2 Temperatures: [19.2 22.5 21.3 24.  23.5 22.8 20.1]\n",
      "Weekend Temperatures (Both Weeks):\n",
      " [[24.8 21.9]\n",
      " [22.8 20.1]]\n"
     ]
    }
   ],
   "source": [
    "print(\"Week 1 Temperatures:\", temperatures[0])\n",
    "print(\"Week 2 Temperatures:\", temperatures[1])\n",
    "print(\"Weekend Temperatures (Both Weeks):\\n\", temperatures[:, -2:])"
   ]
  },
  {
   "cell_type": "code",
   "execution_count": 18,
   "id": "2560553b-0e52-4b23-a40a-17001ee03fae",
   "metadata": {},
   "outputs": [
    {
     "name": "stdout",
     "output_type": "stream",
     "text": [
      "Marks Series:\n",
      " Rank1    95\n",
      "Rank2    92\n",
      "Rank3    89\n",
      "Rank4    85\n",
      "Rank5    80\n",
      "dtype: int64\n"
     ]
    }
   ],
   "source": [
    "import pandas as pd\n",
    "\n",
    "marks = pd.Series([95, 92, 89, 85, 80], index=['Rank1', 'Rank2', 'Rank3', 'Rank4', 'Rank5'])\n",
    "print(\"Marks Series:\\n\", marks)"
   ]
  },
  {
   "cell_type": "code",
   "execution_count": 22,
   "id": "05900963-439b-4cdf-bfbb-e0c4f5432ba6",
   "metadata": {},
   "outputs": [
    {
     "name": "stdout",
     "output_type": "stream",
     "text": [
      "1st Rank (by integer index): 95\n"
     ]
    }
   ],
   "source": [
    "print(\"1st Rank (by integer index):\", marks.iloc[0])"
   ]
  },
  {
   "cell_type": "code",
   "execution_count": 23,
   "id": "e63598d0-2cb9-4cc0-95e8-aa8b89641e43",
   "metadata": {},
   "outputs": [
    {
     "name": "stdout",
     "output_type": "stream",
     "text": [
      "Top 3 Ranks (by label):\n",
      " Rank1    95\n",
      "Rank2    92\n",
      "Rank3    89\n",
      "dtype: int64\n"
     ]
    }
   ],
   "source": [
    "print(\"Top 3 Ranks (by label):\\n\", marks.loc[['Rank1', 'Rank2', 'Rank3']])"
   ]
  },
  {
   "cell_type": "code",
   "execution_count": 24,
   "id": "e083e0dc-0088-4d12-96ce-158f7e8d4ba9",
   "metadata": {},
   "outputs": [
    {
     "name": "stdout",
     "output_type": "stream",
     "text": [
      "3rd Rank (by iloc): 89\n"
     ]
    }
   ],
   "source": [
    "print(\"3rd Rank (by iloc):\", marks.iloc[2])\n"
   ]
  },
  {
   "cell_type": "code",
   "execution_count": 25,
   "id": "caa103f2-d6d6-4c5f-b3b7-5ba20eb2feaf",
   "metadata": {},
   "outputs": [
    {
     "name": "stdout",
     "output_type": "stream",
     "text": [
      "Ranks with marks > 90:\n",
      " Rank1    95\n",
      "Rank2    92\n",
      "dtype: int64\n"
     ]
    }
   ],
   "source": [
    "print(\"Ranks with marks > 90:\\n\", marks[marks > 90])"
   ]
  },
  {
   "cell_type": "code",
   "execution_count": 26,
   "id": "79a25e7d-7f5e-4071-9b78-12dc002233f4",
   "metadata": {},
   "outputs": [
    {
     "name": "stdout",
     "output_type": "stream",
     "text": [
      "After modifying Rank1:\n",
      " Rank1    100\n",
      "Rank2     92\n",
      "Rank3     89\n",
      "Rank4     85\n",
      "Rank5     80\n",
      "dtype: int64\n"
     ]
    }
   ],
   "source": [
    "marks['Rank1'] = 100\n",
    "print(\"After modifying Rank1:\\n\", marks)"
   ]
  },
  {
   "cell_type": "code",
   "execution_count": 27,
   "id": "62a9702e-b800-422b-b47a-50487027c448",
   "metadata": {},
   "outputs": [
    {
     "name": "stdout",
     "output_type": "stream",
     "text": [
      "After removing Rank5:\n",
      " Rank1    100\n",
      "Rank2     92\n",
      "Rank3     89\n",
      "Rank4     85\n",
      "dtype: int64\n"
     ]
    }
   ],
   "source": [
    "marks = marks.drop('Rank5')\n",
    "print(\"After removing Rank5:\\n\", marks)"
   ]
  },
  {
   "cell_type": "code",
   "execution_count": 28,
   "id": "a74a00ee-9f7e-4b4f-840a-6a7940359e00",
   "metadata": {},
   "outputs": [
    {
     "name": "stdout",
     "output_type": "stream",
     "text": [
      "CGPA Series:\n",
      " Rank1    10.0\n",
      "Rank2     9.2\n",
      "Rank3     8.9\n",
      "Rank4     8.5\n",
      "dtype: float64\n"
     ]
    }
   ],
   "source": [
    "cgpa = marks / 10\n",
    "print(\"CGPA Series:\\n\", cgpa)"
   ]
  },
  {
   "cell_type": "code",
   "execution_count": 29,
   "id": "5bf1ebf1-ec3b-43d5-a936-8273cd3beadc",
   "metadata": {},
   "outputs": [
    {
     "name": "stdout",
     "output_type": "stream",
     "text": [
      "Transactions DataFrame:\n",
      "    TransactionID ProductCategory Region  Amount\n",
      "0            101     Electronics  North     200\n",
      "1            102        Clothing  South     150\n",
      "2            103     Electronics  North     300\n",
      "3            104       Furniture   East     450\n",
      "4            105        Clothing   West     200\n",
      "5            106     Electronics  North     250\n",
      "6            107       Furniture   East     300\n",
      "7            108        Clothing   West     180\n",
      "8            109       Furniture  South     350\n",
      "9            110     Electronics  North     400\n"
     ]
    }
   ],
   "source": [
    "import pandas as pd\n",
    "\n",
    "data = {\n",
    "    'TransactionID': [101, 102, 103, 104, 105, 106, 107, 108, 109, 110],\n",
    "    'ProductCategory': ['Electronics', 'Clothing', 'Electronics', 'Furniture', 'Clothing',\n",
    "                        'Electronics', 'Furniture', 'Clothing', 'Furniture', 'Electronics'],\n",
    "    'Region': ['North', 'South', 'North', 'East', 'West', 'North', 'East', 'West', 'South', 'North'],\n",
    "    'Amount': [200, 150, 300, 450, 200, 250, 300, 180, 350, 400]\n",
    "}\n",
    "\n",
    "transactions = pd.DataFrame(data)\n",
    "print(\"Transactions DataFrame:\\n\", transactions)"
   ]
  },
  {
   "cell_type": "code",
   "execution_count": 30,
   "id": "0f783640-b0e3-4721-b4de-4f46b04bd387",
   "metadata": {},
   "outputs": [
    {
     "name": "stdout",
     "output_type": "stream",
     "text": [
      "Head:\n",
      "    TransactionID ProductCategory Region  Amount\n",
      "0            101     Electronics  North     200\n",
      "1            102        Clothing  South     150\n",
      "2            103     Electronics  North     300\n",
      "3            104       Furniture   East     450\n",
      "4            105        Clothing   West     200\n",
      "\n",
      "Tail:\n",
      "    TransactionID ProductCategory Region  Amount\n",
      "5            106     Electronics  North     250\n",
      "6            107       Furniture   East     300\n",
      "7            108        Clothing   West     180\n",
      "8            109       Furniture  South     350\n",
      "9            110     Electronics  North     400\n",
      "\n",
      "Shape: (10, 4)\n",
      "\n",
      "Columns: ['TransactionID', 'ProductCategory', 'Region', 'Amount']\n",
      "\n",
      "Data Types:\n",
      " TransactionID       int64\n",
      "ProductCategory    object\n",
      "Region             object\n",
      "Amount              int64\n",
      "dtype: object\n"
     ]
    }
   ],
   "source": [
    "print(\"Head:\\n\", transactions.head())\n",
    "print(\"\\nTail:\\n\", transactions.tail())\n",
    "print(\"\\nShape:\", transactions.shape)\n",
    "print(\"\\nColumns:\", transactions.columns.tolist())\n",
    "print(\"\\nData Types:\\n\", transactions.dtypes)"
   ]
  },
  {
   "cell_type": "code",
   "execution_count": 31,
   "id": "79d46766-0944-4b3f-b18c-32b8e99b019b",
   "metadata": {},
   "outputs": [
    {
     "name": "stdout",
     "output_type": "stream",
     "text": [
      "  ProductCategory  Amount\n",
      "0     Electronics     200\n",
      "1        Clothing     150\n",
      "2     Electronics     300\n",
      "3       Furniture     450\n",
      "4        Clothing     200\n",
      "5     Electronics     250\n",
      "6       Furniture     300\n",
      "7        Clothing     180\n",
      "8       Furniture     350\n",
      "9     Electronics     400\n"
     ]
    }
   ],
   "source": [
    "print(transactions[['ProductCategory', 'Amount']])"
   ]
  },
  {
   "cell_type": "code",
   "execution_count": 32,
   "id": "856b2df1-5de7-449c-876a-fc889d552f70",
   "metadata": {},
   "outputs": [
    {
     "name": "stdout",
     "output_type": "stream",
     "text": [
      "Last 3 columns:\n",
      "   ProductCategory Region  Amount\n",
      "0     Electronics  North     200\n",
      "1        Clothing  South     150\n",
      "2     Electronics  North     300\n",
      "3       Furniture   East     450\n",
      "4        Clothing   West     200\n",
      "5     Electronics  North     250\n",
      "6       Furniture   East     300\n",
      "7        Clothing   West     180\n",
      "8       Furniture  South     350\n",
      "9     Electronics  North     400\n"
     ]
    }
   ],
   "source": [
    "print(\"Last 3 columns:\\n\", transactions.iloc[:, -3:])"
   ]
  },
  {
   "cell_type": "code",
   "execution_count": 33,
   "id": "0f1705c8-c694-46c3-8227-26e72e80b2de",
   "metadata": {},
   "outputs": [
    {
     "name": "stdout",
     "output_type": "stream",
     "text": [
      "North Region with Amount > 200:\n",
      "    TransactionID ProductCategory Region  Amount\n",
      "2            103     Electronics  North     300\n",
      "5            106     Electronics  North     250\n",
      "9            110     Electronics  North     400\n"
     ]
    }
   ],
   "source": [
    "north_high = transactions[(transactions['Region'] == 'North') & (transactions['Amount'] > 200)]\n",
    "print(\"North Region with Amount > 200:\\n\", north_high)"
   ]
  },
  {
   "cell_type": "code",
   "execution_count": 34,
   "id": "7a807458-5689-4b52-8f62-e0364efe7c11",
   "metadata": {},
   "outputs": [
    {
     "name": "stdout",
     "output_type": "stream",
     "text": [
      "Product Category Counts:\n",
      " ProductCategory\n",
      "Electronics    4\n",
      "Clothing       3\n",
      "Furniture      3\n",
      "Name: count, dtype: int64\n"
     ]
    }
   ],
   "source": [
    "print(\"Product Category Counts:\\n\", transactions['ProductCategory'].value_counts())"
   ]
  },
  {
   "cell_type": "code",
   "execution_count": 35,
   "id": "3314d99e-41d0-4a25-8dc0-161635bd07a4",
   "metadata": {},
   "outputs": [
    {
     "name": "stdout",
     "output_type": "stream",
     "text": [
      "Unique Regions: ['North' 'South' 'East' 'West']\n"
     ]
    }
   ],
   "source": [
    "print(\"Unique Regions:\", transactions['Region'].unique())"
   ]
  },
  {
   "cell_type": "code",
   "execution_count": 36,
   "id": "6a81aa42-d66b-4b69-aa0e-ef1477734702",
   "metadata": {},
   "outputs": [
    {
     "name": "stdout",
     "output_type": "stream",
     "text": [
      "Mean Amount by Region:\n",
      " Region\n",
      "East     375.0\n",
      "North    287.5\n",
      "South    250.0\n",
      "West     190.0\n",
      "Name: Amount, dtype: float64\n"
     ]
    }
   ],
   "source": [
    "region_mean = transactions.groupby('Region')['Amount'].mean()\n",
    "print(\"Mean Amount by Region:\\n\", region_mean)"
   ]
  },
  {
   "cell_type": "code",
   "execution_count": 37,
   "id": "0b3ba8c9-71da-46e9-922a-78278567dbaa",
   "metadata": {},
   "outputs": [
    {
     "name": "stdout",
     "output_type": "stream",
     "text": [
      "Updated Transaction 102:\n",
      "    TransactionID ProductCategory Region  Amount\n",
      "1            102        Clothing  South     165\n"
     ]
    }
   ],
   "source": [
    "transactions.loc[transactions['TransactionID'] == 102, 'Amount'] = 165\n",
    "print(\"Updated Transaction 102:\\n\", transactions[transactions['TransactionID'] == 102])"
   ]
  },
  {
   "cell_type": "code",
   "execution_count": 38,
   "id": "047a3c14-1183-4864-bcba-fdb1b41347f3",
   "metadata": {},
   "outputs": [
    {
     "name": "stdout",
     "output_type": "stream",
     "text": [
      "With Discount Column:\n",
      "    TransactionID ProductCategory Region  Amount  Discount\n",
      "0            101     Electronics  North     200      20.0\n",
      "1            102        Clothing  South     165      16.5\n",
      "2            103     Electronics  North     300      30.0\n",
      "3            104       Furniture   East     450      45.0\n",
      "4            105        Clothing   West     200      20.0\n"
     ]
    }
   ],
   "source": [
    "transactions['Discount'] = transactions['Amount'] * 0.10\n",
    "print(\"With Discount Column:\\n\", transactions.head())"
   ]
  },
  {
   "cell_type": "code",
   "execution_count": 39,
   "id": "4c6f0c7b-1a25-4871-be67-7784eeff625e",
   "metadata": {},
   "outputs": [
    {
     "name": "stdout",
     "output_type": "stream",
     "text": [
      "After Removing Transaction 109:\n",
      "    TransactionID ProductCategory Region  Amount  Discount\n",
      "0            101     Electronics  North     200      20.0\n",
      "1            102        Clothing  South     165      16.5\n",
      "2            103     Electronics  North     300      30.0\n",
      "3            104       Furniture   East     450      45.0\n",
      "4            105        Clothing   West     200      20.0\n",
      "5            106     Electronics  North     250      25.0\n",
      "6            107       Furniture   East     300      30.0\n",
      "7            108        Clothing   West     180      18.0\n",
      "9            110     Electronics  North     400      40.0\n"
     ]
    }
   ],
   "source": [
    "transactions = transactions[transactions['TransactionID'] != 109]\n",
    "print(\"After Removing Transaction 109:\\n\", transactions)"
   ]
  },
  {
   "cell_type": "code",
   "execution_count": 40,
   "id": "110c5fe2-59c5-4470-821e-b2f08cf5daee",
   "metadata": {},
   "outputs": [
    {
     "name": "stdout",
     "output_type": "stream",
     "text": [
      "After Dropping Discount Column:\n",
      "    TransactionID ProductCategory Region  Amount\n",
      "0            101     Electronics  North     200\n",
      "1            102        Clothing  South     165\n",
      "2            103     Electronics  North     300\n",
      "3            104       Furniture   East     450\n",
      "4            105        Clothing   West     200\n",
      "5            106     Electronics  North     250\n",
      "6            107       Furniture   East     300\n",
      "7            108        Clothing   West     180\n",
      "9            110     Electronics  North     400\n"
     ]
    }
   ],
   "source": [
    "transactions = transactions.drop(columns='Discount')\n",
    "print(\"After Dropping Discount Column:\\n\", transactions)"
   ]
  },
  {
   "cell_type": "code",
   "execution_count": null,
   "id": "d8592d87-c49d-404c-ae20-073298b57d05",
   "metadata": {},
   "outputs": [],
   "source": []
  }
 ],
 "metadata": {
  "kernelspec": {
   "display_name": "Python 3 (ipykernel)",
   "language": "python",
   "name": "python3"
  },
  "language_info": {
   "codemirror_mode": {
    "name": "ipython",
    "version": 3
   },
   "file_extension": ".py",
   "mimetype": "text/x-python",
   "name": "python",
   "nbconvert_exporter": "python",
   "pygments_lexer": "ipython3",
   "version": "3.12.7"
  }
 },
 "nbformat": 4,
 "nbformat_minor": 5
}
