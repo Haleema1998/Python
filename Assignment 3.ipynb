{
 "cells": [
  {
   "cell_type": "code",
   "execution_count": 2,
   "id": "1ef72388-d78b-4226-a7eb-e7f4170d427c",
   "metadata": {},
   "outputs": [
    {
     "name": "stdin",
     "output_type": "stream",
     "text": [
      "Guess the number (between 1 and 10):  4\n"
     ]
    },
    {
     "name": "stdout",
     "output_type": "stream",
     "text": [
      "Too low. Try again.\n"
     ]
    },
    {
     "name": "stdin",
     "output_type": "stream",
     "text": [
      "Guess the number (between 1 and 10):  6\n"
     ]
    },
    {
     "name": "stdout",
     "output_type": "stream",
     "text": [
      "Too low. Try again.\n"
     ]
    },
    {
     "name": "stdin",
     "output_type": "stream",
     "text": [
      "Guess the number (between 1 and 10):  10\n"
     ]
    },
    {
     "name": "stdout",
     "output_type": "stream",
     "text": [
      "Too high. Try again.\n",
      "Better luck next time!\n"
     ]
    }
   ],
   "source": [
    "import random\n",
    "secret_number = random.randint(1, 10)\n",
    "attempts = 3\n",
    "\n",
    "while attempts > 0:\n",
    "    guess = int(input(\"Guess the number (between 1 and 10): \"))\n",
    "    \n",
    "    if guess < 1 or guess > 10:\n",
    "        print(\"Your guess is out of range. Please guess a number between 1 and 10.\")\n",
    "        continue\n",
    "    \n",
    "    if guess == secret_number:\n",
    "        print(\"Congratulations! You guessed the correct number.\")\n",
    "        break\n",
    "    elif guess < secret_number:\n",
    "        print(\"Too low. Try again.\")\n",
    "    else:\n",
    "        print(\"Too high. Try again.\")\n",
    "    \n",
    "    attempts -= 1\n",
    "else:\n",
    "    print(\"Better luck next time!\")"
   ]
  },
  {
   "cell_type": "code",
   "execution_count": 3,
   "id": "323b9d5c-6cf1-4083-bc54-ab67d1806698",
   "metadata": {},
   "outputs": [
    {
     "name": "stdin",
     "output_type": "stream",
     "text": [
      "Enter the number for which you want the multiplication table:  4\n"
     ]
    },
    {
     "name": "stdout",
     "output_type": "stream",
     "text": [
      "4 x 1 = 4\n",
      "4 x 2 = 8\n",
      "4 x 3 = 12\n",
      "4 x 4 = 16\n",
      "4 x 5 = 20\n",
      "4 x 6 = 24\n",
      "4 x 7 = 28\n",
      "4 x 8 = 32\n",
      "4 x 9 = 36\n",
      "4 x 10 = 40\n"
     ]
    }
   ],
   "source": [
    "number = int(input(\"Enter the number for which you want the multiplication table: \"))\n",
    "\n",
    "for i in range(1, 11):\n",
    "    print(f\"{number} x {i} = {number * i}\")"
   ]
  },
  {
   "cell_type": "code",
   "execution_count": 5,
   "id": "b3ce2116-ed20-4034-a016-9f6bbe4702fd",
   "metadata": {},
   "outputs": [
    {
     "name": "stdin",
     "output_type": "stream",
     "text": [
      "Enter your weight in kg:  93\n",
      "Enter your height in cm:  156\n"
     ]
    },
    {
     "name": "stdout",
     "output_type": "stream",
     "text": [
      "Your BMI is: 38.21\n"
     ]
    }
   ],
   "source": [
    "def calculate_bmi(weight, height):\n",
    "    return weight / (height ** 2)\n",
    "\n",
    "weight = float(input(\"Enter your weight in kg: \"))\n",
    "height = float(input(\"Enter your height in cm: \")) / 100\n",
    "\n",
    "bmi = calculate_bmi(weight, height)\n",
    "print(f\"Your BMI is: {bmi:.2f}\")"
   ]
  },
  {
   "cell_type": "code",
   "execution_count": null,
   "id": "f2205a35-f427-498e-b8c6-4a09d796ba00",
   "metadata": {},
   "outputs": [],
   "source": []
  }
 ],
 "metadata": {
  "kernelspec": {
   "display_name": "Python 3 (ipykernel)",
   "language": "python",
   "name": "python3"
  },
  "language_info": {
   "codemirror_mode": {
    "name": "ipython",
    "version": 3
   },
   "file_extension": ".py",
   "mimetype": "text/x-python",
   "name": "python",
   "nbconvert_exporter": "python",
   "pygments_lexer": "ipython3",
   "version": "3.12.7"
  }
 },
 "nbformat": 4,
 "nbformat_minor": 5
}
