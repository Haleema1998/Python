{
 "cells": [
  {
   "cell_type": "code",
   "execution_count": 4,
   "id": "f5ea3a01-1ef7-4935-b7be-f3836f95d8e1",
   "metadata": {},
   "outputs": [
    {
     "name": "stdout",
     "output_type": "stream",
     "text": [
      "age_list\n",
      "24\n",
      "25\n",
      "26\n",
      "27\n",
      "28\n"
     ]
    }
   ],
   "source": [
    "age_list = [24, 25, 26, 27, 28]\n",
    "print(\"age_list\")\n",
    "for age in age_list:\n",
    "    print(age)"
   ]
  },
  {
   "cell_type": "code",
   "execution_count": 3,
   "id": "04dbdd84-be97-4b99-8bd0-7bc89b9c704f",
   "metadata": {},
   "outputs": [
    {
     "name": "stdout",
     "output_type": "stream",
     "text": [
      "name_list\n",
      "Alice\n",
      "Bob\n",
      "Charlie\n",
      "David\n",
      "Eve\n"
     ]
    }
   ],
   "source": [
    "name_list = [\"Alice\", \"Bob\", \"Charlie\", \"David\", \"Eve\"]\n",
    "print(\"name_list\")\n",
    "for name in name_list:\n",
    "    print(name)"
   ]
  },
  {
   "cell_type": "code",
   "execution_count": 5,
   "id": "de1ad2c2-a8bc-45fd-9e4f-41fe9a62da08",
   "metadata": {},
   "outputs": [
    {
     "name": "stdout",
     "output_type": "stream",
     "text": [
      "name_list after append:\n",
      "Alice\n",
      "Bob\n",
      "Charlie\n",
      "David\n",
      "Eve\n",
      "Yazhini\n"
     ]
    }
   ],
   "source": [
    "name_list.append(\"Yazhini\")\n",
    "print(\"name_list after append:\")\n",
    "for name in name_list:\n",
    "    print(name)"
   ]
  },
  {
   "cell_type": "code",
   "execution_count": 6,
   "id": "b7ad1d84-ca75-4fbc-891b-12b2cedba3c2",
   "metadata": {},
   "outputs": [
    {
     "name": "stdout",
     "output_type": "stream",
     "text": [
      "age_list after insert at index 2:\n",
      "24\n",
      "25\n",
      "30\n",
      "26\n",
      "27\n",
      "28\n"
     ]
    }
   ],
   "source": [
    "age_list.insert(2, 30)\n",
    "print(\"age_list after insert at index 2:\")\n",
    "for age in age_list:\n",
    "    print(age)"
   ]
  },
  {
   "cell_type": "code",
   "execution_count": 7,
   "id": "a67e923f-83c2-4c83-8406-ce0aa90bc6e5",
   "metadata": {},
   "outputs": [
    {
     "name": "stdout",
     "output_type": "stream",
     "text": [
      "name_list after removing 'Yazhini':\n",
      "Alice\n",
      "Bob\n",
      "Charlie\n",
      "David\n",
      "Eve\n"
     ]
    }
   ],
   "source": [
    "name_list.remove(\"Yazhini\")\n",
    "print(\"name_list after removing 'Yazhini':\")\n",
    "for name in name_list:\n",
    "    print(name)"
   ]
  },
  {
   "cell_type": "code",
   "execution_count": 8,
   "id": "de51499a-b507-4d24-ad24-64721649bb46",
   "metadata": {},
   "outputs": [
    {
     "name": "stdout",
     "output_type": "stream",
     "text": [
      "Popped element: 28\n",
      "age_list after pop:\n",
      "24\n",
      "25\n",
      "30\n",
      "26\n",
      "27\n"
     ]
    }
   ],
   "source": [
    "popped_element = age_list.pop()\n",
    "print(\"Popped element:\", popped_element)\n",
    "print(\"age_list after pop:\")\n",
    "for age in age_list:\n",
    "    print(age)"
   ]
  },
  {
   "cell_type": "code",
   "execution_count": 9,
   "id": "ebc001e8-3a9c-4786-98fc-95d26bca4d07",
   "metadata": {},
   "outputs": [
    {
     "name": "stdout",
     "output_type": "stream",
     "text": [
      "age_list after extend:\n",
      "24\n",
      "25\n",
      "30\n",
      "26\n",
      "27\n",
      "29\n",
      "30\n",
      "26\n"
     ]
    }
   ],
   "source": [
    "age_list.extend([29, 30, 26])\n",
    "print(\"age_list after extend:\")\n",
    "for age in age_list:\n",
    "    print(age)"
   ]
  },
  {
   "cell_type": "code",
   "execution_count": 10,
   "id": "f134e053-184d-4b27-90a5-7f993620c69f",
   "metadata": {},
   "outputs": [
    {
     "name": "stdout",
     "output_type": "stream",
     "text": [
      "age_list after descending sort:\n",
      "30\n",
      "30\n",
      "29\n",
      "27\n",
      "26\n",
      "26\n",
      "25\n",
      "24\n"
     ]
    }
   ],
   "source": [
    "age_list.sort(reverse=True)\n",
    "print(\"age_list after descending sort:\")\n",
    "for age in age_list:\n",
    "    print(age)"
   ]
  },
  {
   "cell_type": "code",
   "execution_count": 11,
   "id": "ec36ee08-5ded-484c-a6b6-2f541c754483",
   "metadata": {},
   "outputs": [
    {
     "name": "stdout",
     "output_type": "stream",
     "text": [
      "Maximum age: 30\n",
      "Minimum age: 24\n",
      "Sum of all ages: 217\n"
     ]
    }
   ],
   "source": [
    "print(\"Maximum age:\", max(age_list))\n",
    "print(\"Minimum age:\", min(age_list))\n",
    "print(\"Sum of all ages:\", sum(age_list))"
   ]
  },
  {
   "cell_type": "code",
   "execution_count": 12,
   "id": "3e2bf5de-48fd-4d7a-875d-5836ece4c11c",
   "metadata": {},
   "outputs": [
    {
     "name": "stdout",
     "output_type": "stream",
     "text": [
      "First element of name_list:\n",
      "Alice\n"
     ]
    }
   ],
   "source": [
    "print(\"First element of name_list:\")\n",
    "print(name_list[0])"
   ]
  },
  {
   "cell_type": "code",
   "execution_count": 13,
   "id": "5122fc6c-74be-4a78-9cac-ab1206cb6663",
   "metadata": {},
   "outputs": [
    {
     "name": "stdout",
     "output_type": "stream",
     "text": [
      "Last element of name_list:\n",
      "Eve\n"
     ]
    }
   ],
   "source": [
    "print(\"Last element of name_list:\")\n",
    "print(name_list[-1])"
   ]
  },
  {
   "cell_type": "code",
   "execution_count": 14,
   "id": "1d92f36d-a2d6-4b1b-b9bf-3dfd81370c2a",
   "metadata": {},
   "outputs": [
    {
     "name": "stdout",
     "output_type": "stream",
     "text": [
      "Elements from index 2 to 4 in name_list:\n",
      "Charlie\n",
      "David\n",
      "Eve\n"
     ]
    }
   ],
   "source": [
    "print(\"Elements from index 2 to 4 in name_list:\")\n",
    "for name in name_list[2:5]:\n",
    "    print(name)"
   ]
  },
  {
   "cell_type": "code",
   "execution_count": 15,
   "id": "5c98215e-c95f-4abc-89ae-3801a46b3335",
   "metadata": {},
   "outputs": [
    {
     "name": "stdout",
     "output_type": "stream",
     "text": [
      "name_list in reverse order:\n",
      "Eve\n",
      "David\n",
      "Charlie\n",
      "Bob\n",
      "Alice\n"
     ]
    }
   ],
   "source": [
    "print(\"name_list in reverse order:\")\n",
    "for name in name_list[::-1]:\n",
    "    print(name)"
   ]
  },
  {
   "cell_type": "code",
   "execution_count": 17,
   "id": "c8ce5b57-b014-43c8-a72d-4714b49b6124",
   "metadata": {},
   "outputs": [
    {
     "name": "stdout",
     "output_type": "stream",
     "text": [
      "student_marks\n",
      "Alice : 90\n",
      "Bob : 75\n",
      "Charlie : 88\n",
      "David : 67\n",
      "Eve : 95\n"
     ]
    }
   ],
   "source": [
    "student_marks = {\n",
    "    \"Alice\": 90,\n",
    "    \"Bob\": 75,\n",
    "    \"Charlie\": 88,\n",
    "    \"David\": 67,\n",
    "    \"Eve\": 95\n",
    "}\n",
    "\n",
    "print(\"student_marks\")\n",
    "for name, mark in student_marks.items():\n",
    "    print(name, \":\", mark)"
   ]
  },
  {
   "cell_type": "code",
   "execution_count": 19,
   "id": "48d10a93-7123-45dc-bbe2-964d5bd66b59",
   "metadata": {},
   "outputs": [
    {
     "name": "stdout",
     "output_type": "stream",
     "text": [
      "Mark of Charlie\n",
      "88\n"
     ]
    }
   ],
   "source": [
    "print(\"Mark of Charlie\")\n",
    "print(student_marks[\"Charlie\"])"
   ]
  },
  {
   "cell_type": "code",
   "execution_count": 20,
   "id": "26843427-e475-4965-ba99-d055856a1d1e",
   "metadata": {},
   "outputs": [
    {
     "name": "stdout",
     "output_type": "stream",
     "text": [
      "student_marks after adding Janani\n",
      "Alice : 90\n",
      "Bob : 75\n",
      "Charlie : 88\n",
      "David : 67\n",
      "Eve : 95\n",
      "Janani : 80\n"
     ]
    }
   ],
   "source": [
    "student_marks[\"Janani\"] = 80\n",
    "print(\"student_marks after adding Janani\")\n",
    "for name, mark in student_marks.items():\n",
    "    print(name, \":\", mark)"
   ]
  },
  {
   "cell_type": "code",
   "execution_count": 21,
   "id": "9040375a-b8c1-4912-a6d5-afb82a3f1490",
   "metadata": {},
   "outputs": [
    {
     "name": "stdout",
     "output_type": "stream",
     "text": [
      "student_marks after updating Bob's mark\n",
      "Alice : 90\n",
      "Bob : 82\n",
      "Charlie : 88\n",
      "David : 67\n",
      "Eve : 95\n",
      "Janani : 80\n"
     ]
    }
   ],
   "source": [
    "student_marks[\"Bob\"] = 82\n",
    "print(\"student_marks after updating Bob's mark\")\n",
    "for name, mark in student_marks.items():\n",
    "    print(name, \":\", mark)"
   ]
  },
  {
   "cell_type": "code",
   "execution_count": 22,
   "id": "4b424068-04ce-4f53-be0e-4e3a907106a5",
   "metadata": {},
   "outputs": [
    {
     "name": "stdout",
     "output_type": "stream",
     "text": [
      "All student names (keys)\n",
      "Alice\n",
      "Bob\n",
      "Charlie\n",
      "David\n",
      "Eve\n",
      "Janani\n",
      "All marks (values)\n",
      "90\n",
      "82\n",
      "88\n",
      "67\n",
      "95\n",
      "80\n",
      "All student-mark pairs (items)\n",
      "Alice : 90\n",
      "Bob : 82\n",
      "Charlie : 88\n",
      "David : 67\n",
      "Eve : 95\n",
      "Janani : 80\n"
     ]
    }
   ],
   "source": [
    "print(\"All student names (keys)\")\n",
    "for name in student_marks.keys():\n",
    "    print(name)\n",
    "\n",
    "print(\"All marks (values)\")\n",
    "for mark in student_marks.values():\n",
    "    print(mark)\n",
    "\n",
    "print(\"All student-mark pairs (items)\")\n",
    "for name, mark in student_marks.items():\n",
    "    print(name, \":\", mark)"
   ]
  },
  {
   "cell_type": "code",
   "execution_count": 27,
   "id": "e4b160db-1134-4462-9256-5d50a8defa79",
   "metadata": {},
   "outputs": [
    {
     "name": "stdout",
     "output_type": "stream",
     "text": [
      "my_set (after removing duplicates)\n",
      "e\n",
      "u\n",
      "o\n",
      "a\n",
      "i\n"
     ]
    }
   ],
   "source": [
    "my_set = set(['a', 'e', 'i', 'o', 'u', 'a', 'a', 'i'])\n",
    "\n",
    "print(\"my_set (after removing duplicates)\")\n",
    "for letter in my_set:\n",
    "    print(letter)"
   ]
  },
  {
   "cell_type": "code",
   "execution_count": 28,
   "id": "ddea9fbf-4663-4463-82ad-04e2b52e1ac0",
   "metadata": {},
   "outputs": [
    {
     "name": "stdout",
     "output_type": "stream",
     "text": [
      "Error occurred while trying to change value in a set:\n",
      "'set' object does not support item assignment\n"
     ]
    }
   ],
   "source": [
    "try:\n",
    "    my_set[4] = 's'\n",
    "except TypeError as e:\n",
    "    print(\"Error occurred while trying to change value in a set:\")\n",
    "    print(e)"
   ]
  },
  {
   "cell_type": "code",
   "execution_count": 29,
   "id": "f998aed6-2e21-4c6d-a6c2-53d11d2a065e",
   "metadata": {},
   "outputs": [
    {
     "name": "stdout",
     "output_type": "stream",
     "text": [
      "Set 1:\n",
      "1\n",
      "3\n",
      "5\n",
      "7\n",
      "9\n",
      "Set 2:\n",
      "2\n",
      "3\n",
      "5\n",
      "8\n",
      "10\n"
     ]
    }
   ],
   "source": [
    "set1 = {1, 3, 5, 7, 9}\n",
    "set2 = {2, 3, 5, 8, 10}\n",
    "\n",
    "print(\"Set 1:\")\n",
    "for item in set1:\n",
    "    print(item)\n",
    "\n",
    "print(\"Set 2:\")\n",
    "for item in set2:\n",
    "    print(item)"
   ]
  },
  {
   "cell_type": "code",
   "execution_count": 30,
   "id": "951ac011-7b06-4dba-827f-f3095f5eda41",
   "metadata": {},
   "outputs": [
    {
     "name": "stdout",
     "output_type": "stream",
     "text": [
      "Union of set1 and set2:\n",
      "1\n",
      "2\n",
      "3\n",
      "5\n",
      "7\n",
      "8\n",
      "9\n",
      "10\n",
      "Intersection of set1 and set2:\n",
      "3\n",
      "5\n"
     ]
    }
   ],
   "source": [
    "union_set = set1.union(set2)\n",
    "intersection_set = set1.intersection(set2)\n",
    "\n",
    "print(\"Union of set1 and set2:\")\n",
    "for item in union_set:\n",
    "    print(item)\n",
    "\n",
    "print(\"Intersection of set1 and set2:\")\n",
    "for item in intersection_set:\n",
    "    print(item)"
   ]
  },
  {
   "cell_type": "code",
   "execution_count": 31,
   "id": "2b2f5696-8b88-4026-a5b9-a8b0374c06b6",
   "metadata": {},
   "outputs": [
    {
     "name": "stdin",
     "output_type": "stream",
     "text": [
      "Enter your score (0 to 10):  8\n"
     ]
    },
    {
     "name": "stdout",
     "output_type": "stream",
     "text": [
      "Performance Category: Above Average\n",
      "Great job! Keep challenging yourself to reach new heights.\n"
     ]
    }
   ],
   "source": [
    "score = int(input(\"Enter your score (0 to 10): \"))\n",
    "\n",
    "# Determine and print category\n",
    "if score > 10 or score < 0:\n",
    "    print(\"Invalid score. Please enter a number from 0 to 10.\")\n",
    "elif score > 7:\n",
    "    print(\"Performance Category: Above Average\")\n",
    "    print(\"Great job! Keep challenging yourself to reach new heights.\")\n",
    "elif score >= 4:\n",
    "    print(\"Performance Category: Average\")\n",
    "    print(\"Good effort. A bit more focus and practice will help you improve!\")\n",
    "else:\n",
    "    print(\"Performance Category: Below Average\")\n",
    "    print(\"Need to improve. Regular practice brings better results!\")"
   ]
  },
  {
   "cell_type": "code",
   "execution_count": null,
   "id": "266a9103-98c3-4853-8aa0-ee63f1c2ef32",
   "metadata": {},
   "outputs": [],
   "source": []
  }
 ],
 "metadata": {
  "kernelspec": {
   "display_name": "Python 3 (ipykernel)",
   "language": "python",
   "name": "python3"
  },
  "language_info": {
   "codemirror_mode": {
    "name": "ipython",
    "version": 3
   },
   "file_extension": ".py",
   "mimetype": "text/x-python",
   "name": "python",
   "nbconvert_exporter": "python",
   "pygments_lexer": "ipython3",
   "version": "3.12.7"
  }
 },
 "nbformat": 4,
 "nbformat_minor": 5
}
